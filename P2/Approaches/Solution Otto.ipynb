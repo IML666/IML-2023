{
 "cells": [
  {
   "cell_type": "code",
   "execution_count": 37,
   "id": "8ed43513",
   "metadata": {},
   "outputs": [],
   "source": [
    "# First, we import necessary libraries:\n",
    "import numpy as np\n",
    "import pandas as pd\n",
    "\n",
    "from sklearn.gaussian_process import GaussianProcessRegressor\n",
    "from sklearn.gaussian_process.kernels import DotProduct, RBF, Matern, RationalQuadratic\n",
    "from sklearn.impute import KNNImputer\n",
    "from sklearn.experimental import enable_iterative_imputer\n",
    "from sklearn.impute import IterativeImputer\n",
    "from sklearn.model_selection import KFold\n",
    "from sklearn.metrics import r2_score\n"
   ]
  },
  {
   "cell_type": "code",
   "execution_count": 38,
   "id": "1c7784a1",
   "metadata": {},
   "outputs": [],
   "source": [
    "def seasons_to_val(s):\n",
    "    \"\"\"Converts season string to numerical value\"\"\"\n",
    "    season_map = {\"spring\": 1, \"summer\": 2, \"autumn\": 3, \"winter\": 4}\n",
    "    return season_map.get(s, 0)\n"
   ]
  },
  {
   "cell_type": "code",
   "execution_count": 39,
   "id": "6470f51b",
   "metadata": {},
   "outputs": [],
   "source": [
    "def data_loading(KNN):\n",
    "    \"\"\"\n",
    "    This function loads the training and test data, preprocesses it, removes the NaN values and interpolates the missing \n",
    "    data using imputation\n",
    "\n",
    "    Returns\n",
    "    ----------\n",
    "    X_train: matrix of floats, training input with features\n",
    "    y_train: array of floats, training output with labels\n",
    "    X_test: matrix of floats: dim = (100, ?), test input with features\n",
    "    \"\"\"\n",
    "    # Load training data\n",
    "    train_df = pd.read_csv(\"/home/otps3141/Documents/Git Hub/IML-2023/P2/train.csv\")\n",
    "\n",
    "    # print(\"Training data:\")\n",
    "    # print(\"Shape:\", train_df.shape)\n",
    "    # print(train_df.head(2))\n",
    "    # print('\\n')\n",
    "\n",
    "    # Load test data\n",
    "    test_df = pd.read_csv(\"/home/otps3141/Documents/Git Hub/IML-2023/P2/test.csv\")\n",
    "\n",
    "    # print(\"Test data:\")\n",
    "    # print(test_df.shape)\n",
    "    # print(test_df.head(2))\n",
    "\n",
    "    # Extract features and labels\n",
    "    ### Maybe use to_numpy() instead of values\n",
    "\n",
    "    X_train = train_df.drop(['price_CHF'], axis=1).values\n",
    "    y_train = train_df['price_CHF'].values\n",
    "    X_test = test_df.values\n",
    "\n",
    "    # Preprocess data\n",
    "    X_train[:, 0] = np.array(list(map(seasons_to_val, X_train[:, 0])))\n",
    "    X_test[:, 0] = np.array(list(map(seasons_to_val, X_test[:, 0])))\n",
    "\n",
    "    # Impute missing values\n",
    "\n",
    "    ### 1. KNN\n",
    "    imp = KNNImputer(n_neighbors=KNN, weights=\"distance\")\n",
    "    X_train = imp.fit_transform(X_train)\n",
    "    X_test = imp.transform(X_test)\n",
    "\n",
    "    ### 2. Iterative\n",
    "    # imp = IterativeImputer(random_state=0)\n",
    "    # X_train = imp.fit_transform(X_train)\n",
    "    # X_test = imp.transform(X_test)\n",
    "\n",
    "    ### How to deal with missing labels? Could sort them out or impute them as well.\n",
    "    # Remove rows with missing labels\n",
    "\n",
    "    mask = ~np.isnan(y_train)\n",
    "    X_train = X_train[mask]\n",
    "    y_train = y_train[mask]\n",
    "\n",
    "    sum = np.sum(mask)\n",
    "\n",
    "    # Impute labels\n",
    "    #--> Performs worse\n",
    "\n",
    "    # y_train = imp.fit_transform(y_train.reshape(-1,1))\n",
    "\n",
    "    assert (X_train.shape[1] == X_test.shape[1]) and (\n",
    "        X_train.shape[0] == y_train.shape[0]) and (X_test.shape[0] == 100), \"Invalid data shape\"\n",
    "    return X_train, y_train, X_test, sum"
   ]
  },
  {
   "cell_type": "code",
   "execution_count": 40,
   "id": "ef1c9df2",
   "metadata": {},
   "outputs": [],
   "source": [
    "def _fit_kfold(kf_splitter, X_test, X_train, y_train, model):\n",
    "    \"\"\"\"\n",
    "    Helper function to compute the KFolds and keep the rest of the modeling function cleaner.\n",
    "    The model is the machine learning model that fits the data.\n",
    "    \"\"\"\n",
    "    # Storage for errors\n",
    "    error_matrix = np.zeros(kf_splitter.get_n_splits())\n",
    "\n",
    "    # Storage for all n_fold models\n",
    "    models = []\n",
    "\n",
    "    # Perform Cross validation\n",
    "    for i, (train_index, test_index) in enumerate(kf_splitter.split(X_train)):\n",
    "        X_train_folds = X_train[train_index]\n",
    "        y_train_folds = y_train[train_index]\n",
    "\n",
    "        X_test_folds = X_train[test_index]\n",
    "        y_test_folds = y_train[test_index]\n",
    "\n",
    "        # The model is refitted every time.\n",
    "        model.fit(X_train_folds, y_train_folds)\n",
    "        y_pred_folds, sigma = model.predict(X_test_folds, return_std=True)\n",
    "\n",
    "        models.append(model)\n",
    "\n",
    "        error_matrix[i] = calculate_R2(y_pred_folds, y_test_folds)\n",
    "\n",
    "    best_index = np.argmax(error_matrix)\n",
    "    best_fit = models[best_index]\n",
    "\n",
    "    y_pred = best_fit.predict(X_test)\n",
    "\n",
    "    return y_pred, error_matrix"
   ]
  },
  {
   "cell_type": "code",
   "execution_count": 41,
   "id": "20b94f75",
   "metadata": {},
   "outputs": [],
   "source": [
    "def calculate_R2(y_pred, y):\n",
    "\n",
    "    R2 = r2_score(y, y_pred)\n",
    "\n",
    "    assert np.isscalar(R2)\n",
    "    return R2"
   ]
  },
  {
   "cell_type": "code",
   "execution_count": 42,
   "id": "1001f05a",
   "metadata": {},
   "outputs": [],
   "source": [
    "def modeling_and_prediction(X_train, y_train, X_test, N_folds):\n",
    "    \"\"\"\n",
    "    This function defines the model, fits training data and then does the prediction with the test data \n",
    "\n",
    "    Parameters\n",
    "    ----------\n",
    "    X_train: matrix of floats, training input with 10 features\n",
    "    y_train: array of floats, training output\n",
    "    X_test: matrix of floats: dim = (100, ?), test input with 10 features\n",
    "\n",
    "    Returns\n",
    "    ----------\n",
    "    y_test: array of floats: dim = (100,), predictions on test set\n",
    "    \"\"\"\n",
    "\n",
    "    kf = KFold(N_folds)\n",
    "\n",
    "    y_pred = np.zeros(X_test.shape[0])\n",
    "    # TODO: Define the model and fit it using training data. Then, use test data to make predictions\n",
    "    gauss = GaussianProcessRegressor(kernel=RationalQuadratic(),random_state = 0, alpha = 1)\n",
    "    # gauss.fit(X_train, y_train)\n",
    "    # y_pred = gaus.predict(X_test)\n",
    "\n",
    "\n",
    "    y_pred, error_matrix = _fit_kfold(kf, X_test, X_train, y_train, gauss)\n",
    "\n",
    "\n",
    "    assert y_pred.shape == (100,), \"Invalid data shape\"\n",
    "    return y_pred, error_matrix"
   ]
  },
  {
   "cell_type": "code",
   "execution_count": 43,
   "id": "db49f53b",
   "metadata": {},
   "outputs": [
    {
     "name": "stdout",
     "output_type": "stream",
     "text": [
      "\n",
      "Results file successfully generated!\n",
      "269\n"
     ]
    }
   ],
   "source": [
    "# Data loading\n",
    "X_train, y_train, X_test, sum = data_loading(KNN = 4)\n",
    "# The function retrieving optimal LR parameters\n",
    "y_pred, error_matrix = modeling_and_prediction(X_train, y_train, X_test, 8)\n",
    "# Save results in the required format\n",
    "dt = pd.DataFrame(y_pred)\n",
    "dt.columns = ['price_CHF']\n",
    "dt.to_csv('/home/otps3141/Documents/Git Hub/IML-2023/P2/results.csv', index=False)\n",
    "print(\"\\nResults file successfully generated!\")\n",
    "\n",
    "print(900 - sum)\n",
    "\n"
   ]
  },
  {
   "cell_type": "code",
   "execution_count": 44,
   "id": "f4c649f0",
   "metadata": {},
   "outputs": [
    {
     "data": {
      "text/plain": [
       "array([0.96830965, 0.93964835, 0.97473372, 0.85271256, 0.96910919,\n",
       "       0.93146688, 0.88290832, 0.95371487])"
      ]
     },
     "execution_count": 44,
     "metadata": {},
     "output_type": "execute_result"
    }
   ],
   "source": [
    "error_matrix"
   ]
  }
 ],
 "metadata": {
  "kernelspec": {
   "display_name": "Python 3 (ipykernel)",
   "language": "python",
   "name": "python3"
  },
  "language_info": {
   "codemirror_mode": {
    "name": "ipython",
    "version": 3
   },
   "file_extension": ".py",
   "mimetype": "text/x-python",
   "name": "python",
   "nbconvert_exporter": "python",
   "pygments_lexer": "ipython3",
   "version": "3.11.1"
  }
 },
 "nbformat": 4,
 "nbformat_minor": 5
}
